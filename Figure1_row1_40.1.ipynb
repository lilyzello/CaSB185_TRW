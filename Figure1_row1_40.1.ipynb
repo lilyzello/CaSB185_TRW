{
  "nbformat": 4,
  "nbformat_minor": 0,
  "metadata": {
    "colab": {
      "provenance": []
    },
    "kernelspec": {
      "name": "python3",
      "display_name": "Python 3"
    },
    "language_info": {
      "name": "python"
    }
  },
  "cells": [
    {
      "cell_type": "code",
      "execution_count": null,
      "metadata": {
        "id": "Sy7QEkdhVJoF"
      },
      "outputs": [],
      "source": [
        "#import packages\n",
        "import pandas as pd\n",
        "import numpy as np\n",
        "import scipy.stats\n",
        "import matplotlib.pyplot as plt"
      ]
    },
    {
      "cell_type": "code",
      "source": [
        "from google.colab import drive\n",
        "drive.mount('/content/gdrive')"
      ],
      "metadata": {
        "colab": {
          "base_uri": "https://localhost:8080/"
        },
        "id": "xKBM8XWxV2HN",
        "outputId": "e8318cc8-ac81-4ce1-9d47-45b9f5e237c5"
      },
      "execution_count": null,
      "outputs": [
        {
          "output_type": "stream",
          "name": "stdout",
          "text": [
            "Drive already mounted at /content/gdrive; to attempt to forcibly remount, call drive.mount(\"/content/gdrive\", force_remount=True).\n"
          ]
        }
      ]
    },
    {
      "cell_type": "code",
      "source": [
        "#read in file\n",
        "data_frame = pd.read_csv(\"gdrive/My Drive/40.1.txt\", delimiter=\"\\t\")\n",
        "\n",
        "#adjust column names\n",
        "data_frame = data_frame.drop(axis = \"columns\", columns = \"Year\")\n",
        "data_frame = data_frame.rename(columns={'Single Race 6': 'Race', 'Year Code' : 'Year' })\n",
        "data_frame = data_frame[data_frame['Year'] != 2023]"
        "data_frame=data_frame.replace(\"Unreliable\",np.nan)\n",
      ],
      "metadata": {
        "id": "7Biqws-cWLIE"
      },
      "execution_count": null,
      "outputs": []
    },
    {
      "cell_type": "code",
      "source": [
        "#preview data\n",
        "data_frame[data_frame[\"Gender\"] == \"Female\"]"
      ],
      "metadata": {
        "colab": {
          "base_uri": "https://localhost:8080/",
          "height": 237
        },
        "id": "M0SGoWb7Yo38",
        "outputId": "5daea128-53a1-4633-a327-b89770335eeb"
      },
      "execution_count": null,
      "outputs": [
        {
          "output_type": "execute_result",
          "data": {
            "text/plain": [
              "   Notes  Gender Gender Code    Year   Deaths    Population  Crude Rate\n",
              "0    NaN  Female           F  2018.0   3705.0  1.660388e+08         2.2\n",
              "1    NaN  Female           F  2019.0   3520.0  1.665822e+08         2.1\n",
              "2    NaN  Female           F  2020.0   3284.0  1.672279e+08         2.0\n",
              "3    NaN  Female           F  2021.0   2372.0  1.675090e+08         1.4\n",
              "4    NaN  Female           F  2022.0   1509.0  1.680040e+08         0.9\n",
              "6  Total  Female           F     NaN  15103.0  1.171370e+09         1.3"
            ],
            "text/html": [
              "\n",
              "  <div id=\"df-60bf645e-88bb-46f5-b3a3-db6382c41154\" class=\"colab-df-container\">\n",
              "    <div>\n",
              "<style scoped>\n",
              "    .dataframe tbody tr th:only-of-type {\n",
              "        vertical-align: middle;\n",
              "    }\n",
              "\n",
              "    .dataframe tbody tr th {\n",
              "        vertical-align: top;\n",
              "    }\n",
              "\n",
              "    .dataframe thead th {\n",
              "        text-align: right;\n",
              "    }\n",
              "</style>\n",
              "<table border=\"1\" class=\"dataframe\">\n",
              "  <thead>\n",
              "    <tr style=\"text-align: right;\">\n",
              "      <th></th>\n",
              "      <th>Notes</th>\n",
              "      <th>Gender</th>\n",
              "      <th>Gender Code</th>\n",
              "      <th>Year</th>\n",
              "      <th>Deaths</th>\n",
              "      <th>Population</th>\n",
              "      <th>Crude Rate</th>\n",
              "    </tr>\n",
              "  </thead>\n",
              "  <tbody>\n",
              "    <tr>\n",
              "      <th>0</th>\n",
              "      <td>NaN</td>\n",
              "      <td>Female</td>\n",
              "      <td>F</td>\n",
              "      <td>2018.0</td>\n",
              "      <td>3705.0</td>\n",
              "      <td>1.660388e+08</td>\n",
              "      <td>2.2</td>\n",
              "    </tr>\n",
              "    <tr>\n",
              "      <th>1</th>\n",
              "      <td>NaN</td>\n",
              "      <td>Female</td>\n",
              "      <td>F</td>\n",
              "      <td>2019.0</td>\n",
              "      <td>3520.0</td>\n",
              "      <td>1.665822e+08</td>\n",
              "      <td>2.1</td>\n",
              "    </tr>\n",
              "    <tr>\n",
              "      <th>2</th>\n",
              "      <td>NaN</td>\n",
              "      <td>Female</td>\n",
              "      <td>F</td>\n",
              "      <td>2020.0</td>\n",
              "      <td>3284.0</td>\n",
              "      <td>1.672279e+08</td>\n",
              "      <td>2.0</td>\n",
              "    </tr>\n",
              "    <tr>\n",
              "      <th>3</th>\n",
              "      <td>NaN</td>\n",
              "      <td>Female</td>\n",
              "      <td>F</td>\n",
              "      <td>2021.0</td>\n",
              "      <td>2372.0</td>\n",
              "      <td>1.675090e+08</td>\n",
              "      <td>1.4</td>\n",
              "    </tr>\n",
              "    <tr>\n",
              "      <th>4</th>\n",
              "      <td>NaN</td>\n",
              "      <td>Female</td>\n",
              "      <td>F</td>\n",
              "      <td>2022.0</td>\n",
              "      <td>1509.0</td>\n",
              "      <td>1.680040e+08</td>\n",
              "      <td>0.9</td>\n",
              "    </tr>\n",
              "    <tr>\n",
              "      <th>6</th>\n",
              "      <td>Total</td>\n",
              "      <td>Female</td>\n",
              "      <td>F</td>\n",
              "      <td>NaN</td>\n",
              "      <td>15103.0</td>\n",
              "      <td>1.171370e+09</td>\n",
              "      <td>1.3</td>\n",
              "    </tr>\n",
              "  </tbody>\n",
              "</table>\n",
              "</div>\n",
              "    <div class=\"colab-df-buttons\">\n",
              "\n",
              "  <div class=\"colab-df-container\">\n",
              "    <button class=\"colab-df-convert\" onclick=\"convertToInteractive('df-60bf645e-88bb-46f5-b3a3-db6382c41154')\"\n",
              "            title=\"Convert this dataframe to an interactive table.\"\n",
              "            style=\"display:none;\">\n",
              "\n",
              "  <svg xmlns=\"http://www.w3.org/2000/svg\" height=\"24px\" viewBox=\"0 -960 960 960\">\n",
              "    <path d=\"M120-120v-720h720v720H120Zm60-500h600v-160H180v160Zm220 220h160v-160H400v160Zm0 220h160v-160H400v160ZM180-400h160v-160H180v160Zm440 0h160v-160H620v160ZM180-180h160v-160H180v160Zm440 0h160v-160H620v160Z\"/>\n",
              "  </svg>\n",
              "    </button>\n",
              "\n",
              "  <style>\n",
              "    .colab-df-container {\n",
              "      display:flex;\n",
              "      gap: 12px;\n",
              "    }\n",
              "\n",
              "    .colab-df-convert {\n",
              "      background-color: #E8F0FE;\n",
              "      border: none;\n",
              "      border-radius: 50%;\n",
              "      cursor: pointer;\n",
              "      display: none;\n",
              "      fill: #1967D2;\n",
              "      height: 32px;\n",
              "      padding: 0 0 0 0;\n",
              "      width: 32px;\n",
              "    }\n",
              "\n",
              "    .colab-df-convert:hover {\n",
              "      background-color: #E2EBFA;\n",
              "      box-shadow: 0px 1px 2px rgba(60, 64, 67, 0.3), 0px 1px 3px 1px rgba(60, 64, 67, 0.15);\n",
              "      fill: #174EA6;\n",
              "    }\n",
              "\n",
              "    .colab-df-buttons div {\n",
              "      margin-bottom: 4px;\n",
              "    }\n",
              "\n",
              "    [theme=dark] .colab-df-convert {\n",
              "      background-color: #3B4455;\n",
              "      fill: #D2E3FC;\n",
              "    }\n",
              "\n",
              "    [theme=dark] .colab-df-convert:hover {\n",
              "      background-color: #434B5C;\n",
              "      box-shadow: 0px 1px 3px 1px rgba(0, 0, 0, 0.15);\n",
              "      filter: drop-shadow(0px 1px 2px rgba(0, 0, 0, 0.3));\n",
              "      fill: #FFFFFF;\n",
              "    }\n",
              "  </style>\n",
              "\n",
              "    <script>\n",
              "      const buttonEl =\n",
              "        document.querySelector('#df-60bf645e-88bb-46f5-b3a3-db6382c41154 button.colab-df-convert');\n",
              "      buttonEl.style.display =\n",
              "        google.colab.kernel.accessAllowed ? 'block' : 'none';\n",
              "\n",
              "      async function convertToInteractive(key) {\n",
              "        const element = document.querySelector('#df-60bf645e-88bb-46f5-b3a3-db6382c41154');\n",
              "        const dataTable =\n",
              "          await google.colab.kernel.invokeFunction('convertToInteractive',\n",
              "                                                    [key], {});\n",
              "        if (!dataTable) return;\n",
              "\n",
              "        const docLinkHtml = 'Like what you see? Visit the ' +\n",
              "          '<a target=\"_blank\" href=https://colab.research.google.com/notebooks/data_table.ipynb>data table notebook</a>'\n",
              "          + ' to learn more about interactive tables.';\n",
              "        element.innerHTML = '';\n",
              "        dataTable['output_type'] = 'display_data';\n",
              "        await google.colab.output.renderOutput(dataTable, element);\n",
              "        const docLink = document.createElement('div');\n",
              "        docLink.innerHTML = docLinkHtml;\n",
              "        element.appendChild(docLink);\n",
              "      }\n",
              "    </script>\n",
              "  </div>\n",
              "\n",
              "\n",
              "<div id=\"df-1f36b714-f702-4770-aba5-ce1196e62358\">\n",
              "  <button class=\"colab-df-quickchart\" onclick=\"quickchart('df-1f36b714-f702-4770-aba5-ce1196e62358')\"\n",
              "            title=\"Suggest charts\"\n",
              "            style=\"display:none;\">\n",
              "\n",
              "<svg xmlns=\"http://www.w3.org/2000/svg\" height=\"24px\"viewBox=\"0 0 24 24\"\n",
              "     width=\"24px\">\n",
              "    <g>\n",
              "        <path d=\"M19 3H5c-1.1 0-2 .9-2 2v14c0 1.1.9 2 2 2h14c1.1 0 2-.9 2-2V5c0-1.1-.9-2-2-2zM9 17H7v-7h2v7zm4 0h-2V7h2v10zm4 0h-2v-4h2v4z\"/>\n",
              "    </g>\n",
              "</svg>\n",
              "  </button>\n",
              "\n",
              "<style>\n",
              "  .colab-df-quickchart {\n",
              "      --bg-color: #E8F0FE;\n",
              "      --fill-color: #1967D2;\n",
              "      --hover-bg-color: #E2EBFA;\n",
              "      --hover-fill-color: #174EA6;\n",
              "      --disabled-fill-color: #AAA;\n",
              "      --disabled-bg-color: #DDD;\n",
              "  }\n",
              "\n",
              "  [theme=dark] .colab-df-quickchart {\n",
              "      --bg-color: #3B4455;\n",
              "      --fill-color: #D2E3FC;\n",
              "      --hover-bg-color: #434B5C;\n",
              "      --hover-fill-color: #FFFFFF;\n",
              "      --disabled-bg-color: #3B4455;\n",
              "      --disabled-fill-color: #666;\n",
              "  }\n",
              "\n",
              "  .colab-df-quickchart {\n",
              "    background-color: var(--bg-color);\n",
              "    border: none;\n",
              "    border-radius: 50%;\n",
              "    cursor: pointer;\n",
              "    display: none;\n",
              "    fill: var(--fill-color);\n",
              "    height: 32px;\n",
              "    padding: 0;\n",
              "    width: 32px;\n",
              "  }\n",
              "\n",
              "  .colab-df-quickchart:hover {\n",
              "    background-color: var(--hover-bg-color);\n",
              "    box-shadow: 0 1px 2px rgba(60, 64, 67, 0.3), 0 1px 3px 1px rgba(60, 64, 67, 0.15);\n",
              "    fill: var(--button-hover-fill-color);\n",
              "  }\n",
              "\n",
              "  .colab-df-quickchart-complete:disabled,\n",
              "  .colab-df-quickchart-complete:disabled:hover {\n",
              "    background-color: var(--disabled-bg-color);\n",
              "    fill: var(--disabled-fill-color);\n",
              "    box-shadow: none;\n",
              "  }\n",
              "\n",
              "  .colab-df-spinner {\n",
              "    border: 2px solid var(--fill-color);\n",
              "    border-color: transparent;\n",
              "    border-bottom-color: var(--fill-color);\n",
              "    animation:\n",
              "      spin 1s steps(1) infinite;\n",
              "  }\n",
              "\n",
              "  @keyframes spin {\n",
              "    0% {\n",
              "      border-color: transparent;\n",
              "      border-bottom-color: var(--fill-color);\n",
              "      border-left-color: var(--fill-color);\n",
              "    }\n",
              "    20% {\n",
              "      border-color: transparent;\n",
              "      border-left-color: var(--fill-color);\n",
              "      border-top-color: var(--fill-color);\n",
              "    }\n",
              "    30% {\n",
              "      border-color: transparent;\n",
              "      border-left-color: var(--fill-color);\n",
              "      border-top-color: var(--fill-color);\n",
              "      border-right-color: var(--fill-color);\n",
              "    }\n",
              "    40% {\n",
              "      border-color: transparent;\n",
              "      border-right-color: var(--fill-color);\n",
              "      border-top-color: var(--fill-color);\n",
              "    }\n",
              "    60% {\n",
              "      border-color: transparent;\n",
              "      border-right-color: var(--fill-color);\n",
              "    }\n",
              "    80% {\n",
              "      border-color: transparent;\n",
              "      border-right-color: var(--fill-color);\n",
              "      border-bottom-color: var(--fill-color);\n",
              "    }\n",
              "    90% {\n",
              "      border-color: transparent;\n",
              "      border-bottom-color: var(--fill-color);\n",
              "    }\n",
              "  }\n",
              "</style>\n",
              "\n",
              "  <script>\n",
              "    async function quickchart(key) {\n",
              "      const quickchartButtonEl =\n",
              "        document.querySelector('#' + key + ' button');\n",
              "      quickchartButtonEl.disabled = true;  // To prevent multiple clicks.\n",
              "      quickchartButtonEl.classList.add('colab-df-spinner');\n",
              "      try {\n",
              "        const charts = await google.colab.kernel.invokeFunction(\n",
              "            'suggestCharts', [key], {});\n",
              "      } catch (error) {\n",
              "        console.error('Error during call to suggestCharts:', error);\n",
              "      }\n",
              "      quickchartButtonEl.classList.remove('colab-df-spinner');\n",
              "      quickchartButtonEl.classList.add('colab-df-quickchart-complete');\n",
              "    }\n",
              "    (() => {\n",
              "      let quickchartButtonEl =\n",
              "        document.querySelector('#df-1f36b714-f702-4770-aba5-ce1196e62358 button');\n",
              "      quickchartButtonEl.style.display =\n",
              "        google.colab.kernel.accessAllowed ? 'block' : 'none';\n",
              "    })();\n",
              "  </script>\n",
              "</div>\n",
              "    </div>\n",
              "  </div>\n"
            ],
            "application/vnd.google.colaboratory.intrinsic+json": {
              "type": "dataframe",
              "summary": "{\n  \"name\": \"data_frame[data_frame[\\\"Gender\\\"] == \\\"Female\\\"]\",\n  \"rows\": 6,\n  \"fields\": [\n    {\n      \"column\": \"Notes\",\n      \"properties\": {\n        \"dtype\": \"category\",\n        \"num_unique_values\": 1,\n        \"samples\": [\n          \"Total\"\n        ],\n        \"semantic_type\": \"\",\n        \"description\": \"\"\n      }\n    },\n    {\n      \"column\": \"Gender\",\n      \"properties\": {\n        \"dtype\": \"category\",\n        \"num_unique_values\": 1,\n        \"samples\": [\n          \"Female\"\n        ],\n        \"semantic_type\": \"\",\n        \"description\": \"\"\n      }\n    },\n    {\n      \"column\": \"Gender Code\",\n      \"properties\": {\n        \"dtype\": \"category\",\n        \"num_unique_values\": 1,\n        \"samples\": [\n          \"F\"\n        ],\n        \"semantic_type\": \"\",\n        \"description\": \"\"\n      }\n    },\n    {\n      \"column\": \"Year\",\n      \"properties\": {\n        \"dtype\": \"number\",\n        \"std\": 1.5811388300841898,\n        \"min\": 2018.0,\n        \"max\": 2022.0,\n        \"num_unique_values\": 5,\n        \"samples\": [\n          2019.0\n        ],\n        \"semantic_type\": \"\",\n        \"description\": \"\"\n      }\n    },\n    {\n      \"column\": \"Deaths\",\n      \"properties\": {\n        \"dtype\": \"number\",\n        \"std\": 5058.32607687563,\n        \"min\": 1509.0,\n        \"max\": 15103.0,\n        \"num_unique_values\": 6,\n        \"samples\": [\n          3705.0\n        ],\n        \"semantic_type\": \"\",\n        \"description\": \"\"\n      }\n    },\n    {\n      \"column\": \"Population\",\n      \"properties\": {\n        \"dtype\": \"number\",\n        \"std\": 410003326.3116929,\n        \"min\": 166038755.0,\n        \"max\": 1171369890.0,\n        \"num_unique_values\": 6,\n        \"samples\": [\n          166038755.0\n        ],\n        \"semantic_type\": \"\",\n        \"description\": \"\"\n      }\n    },\n    {\n      \"column\": \"Crude Rate\",\n      \"properties\": {\n        \"dtype\": \"number\",\n        \"std\": 0.5244044240850758,\n        \"min\": 0.9,\n        \"max\": 2.2,\n        \"num_unique_values\": 6,\n        \"samples\": [\n          2.2\n        ],\n        \"semantic_type\": \"\",\n        \"description\": \"\"\n      }\n    }\n  ]\n}"
            }
          },
          "metadata": {},
          "execution_count": 49
        }
      ]
    },
    {
      "cell_type": "code",
      "source": [
        "#define variables for each gender\n",
        "CF2 = data_frame[(data_frame[\"Gender\"] == \"Female\")&\n",
        "           (data_frame[\"Notes\"] != \"Total\")][[\"Year\", \"Crude Rate\"]].astype(float)\n",
        "CM2 = data_frame[(data_frame[\"Gender\"] == \"Male\")&\n",
        "           (data_frame[\"Notes\"] != \"Total\")][[\"Year\", \"Crude Rate\"]].astype(float)\n",
        "CF = data_frame[(data_frame[\"Gender\"] == \"Female\")&\n",
        "           (data_frame[\"Notes\"] != \"Total\")] [[\"Year\", \"Crude Rate\"]].astype(float)\n",
        "CM = data_frame[(data_frame[\"Gender\"] == \"Male\")&\n",
        "           (data_frame[\"Notes\"] != \"Total\")][[\"Year\", \"Crude Rate\"]].astype(float)"
      ],
      "metadata": {
        "id": "yhQH2Zj1YtO2"
      },
      "execution_count": null,
      "outputs": []
    },
    {
      "cell_type": "code",
      "source": [
        "#parse year and crude rate for each gender\n",
        "x1=CF2[\"Year\"]\n",
        "y1=CF2[\"Crude Rate\"]\n",
        "x1c=CF[\"Year\"]\n",
        "\n",
        "x2=CM2[\"Year\"]\n",
        "y2=CM2[\"Crude Rate\"]\n",
        "x2c=CM[\"Year\"]"
      ],
      "metadata": {
        "id": "36vPeC26Y1Nz"
      },
      "execution_count": null,
      "outputs": []
    },
    {
      "cell_type": "code",
      "source": [
        "xr=CM2[\"Year\"]\n",
        "yr=CM2[\"Crude Rate\"].div(CF2[\"Crude Rate\"].values)"
      ],
      "metadata": {
        "id": "sz9oSqFdY6My"
      },
      "execution_count": null,
      "outputs": []
    },
    {
      "cell_type": "code",
      "source": [
        "print(x1)\n",
        "print(y1)"
      ],
      "metadata": {
        "colab": {
          "base_uri": "https://localhost:8080/"
        },
        "id": "E9HmHSPMgV_h",
        "outputId": "61a5397c-2e63-4544-9f67-082f3ad528f2"
      },
      "execution_count": null,
      "outputs": [
        {
          "output_type": "stream",
          "name": "stdout",
          "text": [
            "0    2018.0\n",
            "1    2019.0\n",
            "2    2020.0\n",
            "3    2021.0\n",
            "4    2022.0\n",
            "Name: Year, dtype: float64\n",
            "0    2.2\n",
            "1    2.1\n",
            "2    2.0\n",
            "3    1.4\n",
            "4    0.9\n",
            "Name: Crude Rate, dtype: float64\n"
          ]
        }
      ]
    },
    {
      "cell_type": "code",
      "source": [
        "coeffF = np.polyfit(x1, y1, 2)\n",
        "yfitF = np.polyval(coeffF,x1)\n",
        "resF = np.sum((y1  - yfitF)**2)\n",
        "coeffM = np.polyfit(x2, y2, 2)\n",
        "yfitM = np.polyval(coeffM,x2)\n",
        "resM = np.sum((y2  - yfitM)**2)\n",
        "\n",
        "#stdF = np.sqrt(resF/5)\n",
        "#stdM = np.sqrt(resM/5)\n",
        "\n",
        "stdF = np.sqrt(resF/(len(y1)-3))\n",
        "stdM = np.sqrt(resM/(len(y2)-3))\n",
        "\n",
        "gdf = pd.DataFrame({\"value\": [2018, 2019, 2020, 2021, 2022]})"
      ],
      "metadata": {
        "id": "P9YbfMPXY7Hw"
      },
      "execution_count": null,
      "outputs": []
    },
    {
      "cell_type": "code",
      "source": [
        "plt.plot(gdf, np.polyval(coeffF,gdf), color='tab:pink')\n",
        "plt.scatter(x1,y1, color='tab:pink')\n",
        "\n",
        "plt.plot(gdf, np.polyval(coeffM,gdf), color='tab:blue')\n",
        "plt.scatter(x2,y2, color='tab:blue')\n",
        "\n",
        "plt.suptitle('heroin (T40.1)', fontsize=20)\n",
        "#plt.xlabel(\"year\", fontsize =14)\n",
        "plt.ylabel(\"crude rate\", fontsize =14)\n",
        "plt.yticks(np.arange(0, 8.3, 2.0))\n",
        "#plt.legend([\"females\", \"males\"], frameon=False, fontsize = 14)\n",
        "plt.yticks(fontsize=12, rotation=0)\n",
        "plt.xticks(fontsize=12, rotation=0)\n",
        "plt.xticks(np.arange(2018, 2022.5, 1.0))\n",
        "\n",
        "#plt.savefig('AttemptT40.1_R.png')"
      ],
      "metadata": {
        "colab": {
          "base_uri": "https://localhost:8080/",
          "height": 656
        },
        "id": "5Ueuhi-BZB_H",
        "outputId": "c9d5067e-9647-4b99-d035-f23e17e28a66"
      },
      "execution_count": null,
      "outputs": [
        {
          "output_type": "execute_result",
          "data": {
            "text/plain": [
              "([<matplotlib.axis.XTick at 0x7bf4ac7412a0>,\n",
              "  <matplotlib.axis.XTick at 0x7bf4ac742e60>,\n",
              "  <matplotlib.axis.XTick at 0x7bf4ac451510>,\n",
              "  <matplotlib.axis.XTick at 0x7bf4ac56f340>,\n",
              "  <matplotlib.axis.XTick at 0x7bf4ac56e770>],\n",
              " [Text(2018.0, 0, '2018'),\n",
              "  Text(2019.0, 0, '2019'),\n",
              "  Text(2020.0, 0, '2020'),\n",
              "  Text(2021.0, 0, '2021'),\n",
              "  Text(2022.0, 0, '2022')])"
            ]
          },
          "metadata": {},
          "execution_count": 82
        },
        {
          "output_type": "display_data",
          "data": {
            "text/plain": [
              "<Figure size 640x480 with 1 Axes>"
            ],
            "image/png": "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\n"
          },
          "metadata": {}
        }
      ]
    }
  ]
}
