{
  "cells": [
    {
      "cell_type": "code",
      "execution_count": 1,
      "metadata": {
        "id": "Ffm1TCnhpBJy"
      },
      "outputs": [],
      "source": [
        "# import the pandas module\n",
        "# https://pandas.pydata.org/docs/user_guide/index.html\n",
        "\n",
        "import pandas as pd\n",
        "\n",
        "# numpy is a standard module for simple numerical calculations\n",
        "import numpy as np\n",
        "import scipy.stats\n",
        "import matplotlib.pyplot as plt\n",
        "import statsmodels.api as sm"
      ],
      "id": "Ffm1TCnhpBJy"
    },
    {
      "cell_type": "code",
      "execution_count": 2,
      "metadata": {
        "id": "L7DFT6tJpBJ0"
      },
      "outputs": [],
      "source": [
        "data_frame0 = pd.read_csv(\"40.4.txt\",delimiter=\"\\t\")\n",
        "data_frame0 = data_frame0.drop(axis = \"columns\", columns = \"Year\")\n",
        "#adjust the column names for readability\n",
        "data_frame0 = data_frame0.rename(columns={'Single Race 6': 'Race', 'Year Code' : 'Year' }) #correct names so code works\n",
        "data_frame0 = data_frame0[data_frame0['Year'] != 2023]"
      ],
      "id": "L7DFT6tJpBJ0"
    },
    {
      "cell_type": "markdown",
      "metadata": {
        "id": "46fYukbPpBJ0"
      },
      "source": [
        "We replace \"Unreliable\" by NaN."
      ],
      "id": "46fYukbPpBJ0"
    },
    {
      "cell_type": "code",
      "execution_count": 3,
      "metadata": {
        "id": "N_ha7yqXpBJ1"
      },
      "outputs": [],
      "source": [
        "data_frame0=data_frame0.replace(\"Unreliable\",np.nan)"
      ],
      "id": "N_ha7yqXpBJ1"
    },
    {
      "cell_type": "code",
      "execution_count": 4,
      "metadata": {
        "id": "OdMIqAW1pBJ1"
      },
      "outputs": [],
      "source": [
        "data_frame = pd.read_csv(\"T40.4_TLW.txt\",delimiter=\"\\t\")\n",
        "data_frame = data_frame.drop(axis = \"columns\", columns = \"Year\")\n",
        "#adjust the column names for readability\n",
        "data_frame = data_frame.rename(columns={'Single Race 6': 'Race', 'Year Code' : 'Year' }) #correct names so code works\n",
        "data_frame = data_frame[data_frame['Year'] != 2023]"
      ],
      "id": "OdMIqAW1pBJ1"
    },
    {
      "cell_type": "code",
      "execution_count": 5,
      "metadata": {
        "id": "icExYOwtpBJ2"
      },
      "outputs": [],
      "source": [
        "data_frame=data_frame.replace(\"Unreliable\",np.nan)"
      ],
      "id": "icExYOwtpBJ2"
    },
    {
      "cell_type": "code",
      "execution_count": 6,
      "metadata": {
        "id": "n9ffEd2fpBJ2"
      },
      "outputs": [],
      "source": [
        "CF2 = data_frame0[(data_frame0[\"Gender\"] == \"Female\") &\n",
        "                (data_frame0[\"Notes\"] != \"Total\")][[\"Year\", \"Crude Rate\"]].astype(float)\n",
        "CM2 = data_frame0[(data_frame0[\"Gender\"] == \"Male\") &\n",
        "                (data_frame0[\"Notes\"] != \"Total\")][[\"Year\", \"Crude Rate\"]].astype(float)\n",
        "CF = data_frame0[(data_frame0[\"Gender\"] == \"Female\")] [[\"Year\", \"Crude Rate\"]].astype(float)\n",
        "CM = data_frame0[(data_frame0[\"Gender\"] == \"Male\")][[\"Year\", \"Crude Rate\"]].astype(float)"
      ],
      "id": "n9ffEd2fpBJ2"
    },
    {
      "cell_type": "code",
      "execution_count": 7,
      "metadata": {
        "id": "IDG0nOUSpBJ2"
      },
      "outputs": [],
      "source": [
        "CF2b = data_frame[(data_frame[\"Gender\"] == \"Female\") & (data_frame[\"Race\"] == \"Black or African American\")&\n",
        "           (data_frame[\"Notes\"] != \"Total\")][[\"Year\", \"Crude Rate\"]].astype(float)\n",
        "CM2b = data_frame[(data_frame[\"Gender\"] == \"Male\") & (data_frame[\"Race\"] == \"Black or African American\")&\n",
        "           (data_frame[\"Notes\"] != \"Total\")][[\"Year\", \"Crude Rate\"]].astype(float)\n",
        "CFb = data_frame[(data_frame[\"Gender\"] == \"Female\") & (data_frame[\"Race\"] == \"Black or African American\")&\n",
        "           (data_frame[\"Notes\"] != \"Total\")][[\"Year\", \"Crude Rate\"]].astype(float)\n",
        "CMb = data_frame[(data_frame[\"Gender\"] == \"Male\") & (data_frame[\"Race\"] == \"Black or African American\")&\n",
        "           (data_frame[\"Notes\"] != \"Total\")][[\"Year\", \"Crude Rate\"]].astype(float)\n",
        "\n",
        "\n",
        "CF2w = data_frame[(data_frame[\"Gender\"] == \"Female\") & (data_frame[\"Race\"] == \"White\")&\n",
        "           (data_frame[\"Notes\"] != \"Total\")][[\"Year\", \"Crude Rate\"]].astype(float)\n",
        "CM2w = data_frame[(data_frame[\"Gender\"] == \"Male\") & (data_frame[\"Race\"] == \"White\")&\n",
        "           (data_frame[\"Notes\"] != \"Total\")][[\"Year\", \"Crude Rate\"]].astype(float)\n",
        "CFw = data_frame[(data_frame[\"Gender\"] == \"Female\") & (data_frame[\"Race\"] == \"White\")&\n",
        "           (data_frame[\"Notes\"] != \"Total\")][[\"Year\", \"Crude Rate\"]].astype(float)\n",
        "CMw = data_frame[(data_frame[\"Gender\"] == \"Male\") & (data_frame[\"Race\"] == \"White\")&\n",
        "           (data_frame[\"Notes\"] != \"Total\")][[\"Year\", \"Crude Rate\"]].astype(float)\n",
        "\n",
        "\n",
        "CF2a = data_frame[(data_frame[\"Gender\"] == \"Female\") & (data_frame[\"Race\"] == \"Asian\")&\n",
        "           (data_frame[\"Notes\"] != \"Total\")][[\"Year\", \"Crude Rate\"]].astype(float)\n",
        "CM2a = data_frame[(data_frame[\"Gender\"] == \"Male\") & (data_frame[\"Race\"] == \"Asian\")&\n",
        "           (data_frame[\"Notes\"] != \"Total\")][[\"Year\", \"Crude Rate\"]].astype(float)\n",
        "CFa = data_frame[(data_frame[\"Gender\"] == \"Female\") & (data_frame[\"Race\"] == \"Asian\")&\n",
        "           (data_frame[\"Notes\"] != \"Total\")][[\"Year\", \"Crude Rate\"]].astype(float)\n",
        "CMa = data_frame[(data_frame[\"Gender\"] == \"Male\") & (data_frame[\"Race\"] == \"Asian\")&\n",
        "           (data_frame[\"Notes\"] != \"Total\")][[\"Year\", \"Crude Rate\"]].astype(float)\n",
        "\n",
        "CF2n = data_frame[(data_frame[\"Gender\"] == \"Female\") & (data_frame[\"Race\"] == \"American Indian or Alaska Native\")&\n",
        "           (data_frame[\"Notes\"] != \"Total\") ][[\"Year\", \"Crude Rate\"]].astype(float)\n",
        "CM2n = data_frame[(data_frame[\"Gender\"] == \"Male\") & (data_frame[\"Race\"] == \"American Indian or Alaska Native\")&\n",
        "           (data_frame[\"Notes\"] != \"Total\")][[\"Year\", \"Crude Rate\"]].astype(float)\n",
        "CFn = data_frame[(data_frame[\"Gender\"] == \"Female\") & (data_frame[\"Race\"] == \"American Indian or Alaska Native\")&\n",
        "           (data_frame[\"Notes\"] != \"Total\")][[\"Year\", \"Crude Rate\"]].astype(float)\n",
        "CMn = data_frame[(data_frame[\"Gender\"] == \"Male\") & (data_frame[\"Race\"] == \"American Indian or Alaska Native\")&\n",
        "           (data_frame[\"Notes\"] != \"Total\") & (data_frame[\"Crude Rate\"] != \"NaN\")][[\"Year\", \"Crude Rate\"]].astype(float)"
      ],
      "id": "IDG0nOUSpBJ2"
    },
    {
      "cell_type": "code",
      "source": [
        "print(CMa)\n",
        "print(CFa)"
      ],
      "metadata": {
        "colab": {
          "base_uri": "https://localhost:8080/"
        },
        "id": "gIvLp-WWsz0x",
        "outputId": "9e0a556b-a287-4d32-d492-4dcc426d9acb"
      },
      "id": "gIvLp-WWsz0x",
      "execution_count": 8,
      "outputs": [
        {
          "output_type": "stream",
          "name": "stdout",
          "text": [
            "      Year  Crude Rate\n",
            "47  2018.0         1.6\n",
            "48  2019.0         2.0\n",
            "49  2020.0         4.1\n",
            "50  2021.0         4.1\n",
            "51  2022.0         5.4\n",
            "      Year  Crude Rate\n",
            "7   2018.0         0.4\n",
            "8   2019.0         0.5\n",
            "9   2020.0         0.8\n",
            "10  2021.0         1.0\n",
            "11  2022.0         1.1\n"
          ]
        }
      ]
    },
    {
      "cell_type": "code",
      "execution_count": 9,
      "metadata": {
        "colab": {
          "base_uri": "https://localhost:8080/",
          "height": 482
        },
        "id": "CdRblgWApBJ2",
        "outputId": "bd32b91e-8a69-4d43-e2f3-3b37da5fc636"
      },
      "outputs": [
        {
          "output_type": "display_data",
          "data": {
            "text/plain": [
              "<Figure size 640x480 with 1 Axes>"
            ],
            "image/png": "[encoded data removed]"
          },
          "metadata": {}
        }
      ],
      "source": [
        "plt.figure()\n",
        "xr=CM[\"Year\"]\n",
        "yr=CM[\"Crude Rate\"].div((CF[\"Crude Rate\"].values))\n",
        "plt.plot(xr, yr, color=\"purple\")\n",
        "plt.scatter(xr, yr, color='purple')\n",
        "plt.legend([\"CR Ratio\"])\n",
        "\n",
        "xrw=CMw[\"Year\"]\n",
        "yrw=CMw[\"Crude Rate\"].div(CFw[\"Crude Rate\"].values)\n",
        "plt.plot(xrw, yrw, color=\"orange\")\n",
        "plt.scatter(xrw, yrw, color=\"orange\")\n",
        "#plt.scatter(2020.0, 25.4/(9.6), color=\"orange\")\n",
        "\n",
        "xrb=CMb[\"Year\"]\n",
        "yrb=CMb[\"Crude Rate\"].div(CFb[\"Crude Rate\"].values)\n",
        "plt.plot(xrb, yrb, color=\"black\")\n",
        "plt.scatter(xrb, yrb, color=\"black\")\n",
        "#plt.scatter(2020.0, 35.4/(11.2), color=\"black\")\n",
        "\n",
        "#above_2016M = CMa[CMa[\"Year\"] >= 2016]\n",
        "#above_2016F = CFa[CFa[\"Year\"] >= 2016]\n",
        "#xra=above_2016M[\"Year\"]\n",
        "#yra=above_2016M[\"Crude Rate\"].div(above_2016F[\"Crude Rate\"].values)\n",
        "#xra=CMa[CMa[\"Year\"] >= 2016][\"Year\"]\n",
        "xra=CMa[\"Year\"]\n",
        "yra=CMa[\"Crude Rate\"].div(CFa[\"Crude Rate\"].values)\n",
        "plt.plot(xra, yra, color=\"tab:green\")\n",
        "plt.scatter(xra, yra, color=\"tab:green\")\n",
        "#plt.scatter(2020.0, 4.5/(1.0), color=\"tab:green\")\n",
        "\n",
        "xrn=CMn[\"Year\"]\n",
        "yrn=CMn[\"Crude Rate\"].div(CFn[\"Crude Rate\"].values)\n",
        "plt.plot(xrn, yrn, color=\"tab:red\")\n",
        "plt.scatter(xrn, yrn, color=\"tab:red\")\n",
        "\n",
        "plt.suptitle('male-to-female ratio', fontsize=20)\n",
        "\n",
        "#plt.legend([\"Nationwide\", \"White\", \"Black\", \"Asian\", \"American Indian of Alaskan Native\"], frameon=False, fontsize=8, loc = (0.025,0.47))\n",
        "plt.xticks(np.arange(2018, 2022.5, 1.0))\n",
        "plt.yticks(np.arange(1.0, 5.1, 1.0))\n",
        "#plt.savefig('AttemptT40.4_MaleRaces.svg')\n",
        "plt.yticks(fontsize=12, rotation=0)\n",
        "plt.xticks(fontsize=12, rotation=0)\n",
        "#plt.xlabel(\"year\", fontsize=14)\n",
        "plt.ylabel(\"ratio\", fontsize=14)\n",
        "\n",
        "plt.savefig('T40.4_RatioRaces_2.png')\n"
      ],
      "id": "CdRblgWApBJ2"
    },
    {
      "cell_type": "code",
      "execution_count": 9,
      "metadata": {
        "id": "wVv_l4uKpBJ3"
      },
      "outputs": [],
      "source": [],
      "id": "wVv_l4uKpBJ3"
    },
    {
      "cell_type": "code",
      "execution_count": 9,
      "metadata": {
        "id": "hGKmMlecpBJ4"
      },
      "outputs": [],
      "source": [],
      "id": "hGKmMlecpBJ4"
    }
  ],
  "metadata": {
    "kernelspec": {
      "display_name": "Python 3",
      "language": "python",
      "name": "python3"
    },
    "language_info": {
      "codemirror_mode": {
        "name": "ipython",
        "version": 3
      },
      "file_extension": ".py",
      "mimetype": "text/x-python",
      "name": "python",
      "nbconvert_exporter": "python",
      "pygments_lexer": "ipython3",
      "version": "3.8.5"
    },
    "colab": {
      "provenance": []
    }
  },
  "nbformat": 4,
  "nbformat_minor": 5
}