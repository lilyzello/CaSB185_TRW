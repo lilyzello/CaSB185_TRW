{
 "cells": [
  {
   "cell_type": "code",
   "execution_count": 1,
   "id": "8c58efdc",
   "metadata": {},
   "outputs": [],
   "source": [
    "# import packages\n",
    "import pandas as pd\n",
    "import numpy as np\n",
    "import scipy.stats\n",
    "import matplotlib.pyplot as plt\n",
    "import statsmodels.api as sm"
   ]
  },
  {
   "cell_type": "code",
   "execution_count": 2,
   "id": "4d5d9d4e",
   "metadata": {},
   "outputs": [],
   "source": [
    "#load the data and adjust the column names for easier analysis\n",
    "data_frame = pd.read_csv(\"T40.2_TLW.txt\",delimiter=\"\\t\")\n",
    "data_frame = data_frame.drop(axis = \"columns\", columns = \"Year\")\n",
    "\n",
    "data_frame = data_frame.rename(columns={'Single Race 6': 'Race', 'Year Code' : 'Year' })\n",
    "data_frame = data_frame[data_frame['Year'] != 2023]\n",
    "\n",
    "#replace \"unreliable\" with NaN\n",
    "data_frame=data_frame.replace(\"Unreliable\",np.nan)"
   ]
  },
  {
   "cell_type": "code",
   "execution_count": 3,
   "id": "bb2aa6e9",
   "metadata": {},
   "outputs": [
    {
     "data": {
      "text/html": [
       "<div>\n",
       "<style scoped>\n",
       "    .dataframe tbody tr th:only-of-type {\n",
       "        vertical-align: middle;\n",
       "    }\n",
       "\n",
       "    .dataframe tbody tr th {\n",
       "        vertical-align: top;\n",
       "    }\n",
       "\n",
       "    .dataframe thead th {\n",
       "        text-align: right;\n",
       "    }\n",
       "</style>\n",
       "<table border=\"1\" class=\"dataframe\">\n",
       "  <thead>\n",
       "    <tr style=\"text-align: right;\">\n",
       "      <th></th>\n",
       "      <th>Notes</th>\n",
       "      <th>Gender</th>\n",
       "      <th>Gender Code</th>\n",
       "      <th>Race</th>\n",
       "      <th>Single Race 6 Code</th>\n",
       "      <th>Year</th>\n",
       "      <th>Deaths</th>\n",
       "      <th>Population</th>\n",
       "      <th>Crude Rate</th>\n",
       "    </tr>\n",
       "  </thead>\n",
       "  <tbody>\n",
       "    <tr>\n",
       "      <th>0</th>\n",
       "      <td>NaN</td>\n",
       "      <td>Female</td>\n",
       "      <td>F</td>\n",
       "      <td>American Indian or Alaska Native</td>\n",
       "      <td>1002-5</td>\n",
       "      <td>2018.0</td>\n",
       "      <td>52.0</td>\n",
       "      <td>2058223.0</td>\n",
       "      <td>2.5</td>\n",
       "    </tr>\n",
       "    <tr>\n",
       "      <th>1</th>\n",
       "      <td>NaN</td>\n",
       "      <td>Female</td>\n",
       "      <td>F</td>\n",
       "      <td>American Indian or Alaska Native</td>\n",
       "      <td>1002-5</td>\n",
       "      <td>2019.0</td>\n",
       "      <td>58.0</td>\n",
       "      <td>2079286.0</td>\n",
       "      <td>2.8</td>\n",
       "    </tr>\n",
       "    <tr>\n",
       "      <th>2</th>\n",
       "      <td>NaN</td>\n",
       "      <td>Female</td>\n",
       "      <td>F</td>\n",
       "      <td>American Indian or Alaska Native</td>\n",
       "      <td>1002-5</td>\n",
       "      <td>2020.0</td>\n",
       "      <td>68.0</td>\n",
       "      <td>2132816.0</td>\n",
       "      <td>3.2</td>\n",
       "    </tr>\n",
       "    <tr>\n",
       "      <th>3</th>\n",
       "      <td>NaN</td>\n",
       "      <td>Female</td>\n",
       "      <td>F</td>\n",
       "      <td>American Indian or Alaska Native</td>\n",
       "      <td>1002-5</td>\n",
       "      <td>2021.0</td>\n",
       "      <td>78.0</td>\n",
       "      <td>2162418.0</td>\n",
       "      <td>3.6</td>\n",
       "    </tr>\n",
       "    <tr>\n",
       "      <th>4</th>\n",
       "      <td>NaN</td>\n",
       "      <td>Female</td>\n",
       "      <td>F</td>\n",
       "      <td>American Indian or Alaska Native</td>\n",
       "      <td>1002-5</td>\n",
       "      <td>2022.0</td>\n",
       "      <td>57.0</td>\n",
       "      <td>2164826.0</td>\n",
       "      <td>2.6</td>\n",
       "    </tr>\n",
       "  </tbody>\n",
       "</table>\n",
       "</div>"
      ],
      "text/plain": [
       "  Notes  Gender Gender Code                              Race  \\\n",
       "0   NaN  Female           F  American Indian or Alaska Native   \n",
       "1   NaN  Female           F  American Indian or Alaska Native   \n",
       "2   NaN  Female           F  American Indian or Alaska Native   \n",
       "3   NaN  Female           F  American Indian or Alaska Native   \n",
       "4   NaN  Female           F  American Indian or Alaska Native   \n",
       "\n",
       "  Single Race 6 Code    Year  Deaths  Population Crude Rate  \n",
       "0             1002-5  2018.0    52.0   2058223.0        2.5  \n",
       "1             1002-5  2019.0    58.0   2079286.0        2.8  \n",
       "2             1002-5  2020.0    68.0   2132816.0        3.2  \n",
       "3             1002-5  2021.0    78.0   2162418.0        3.6  \n",
       "4             1002-5  2022.0    57.0   2164826.0        2.6  "
      ]
     },
     "execution_count": 3,
     "metadata": {},
     "output_type": "execute_result"
    }
   ],
   "source": [
    "#preview the data\n",
    "data_frame[(data_frame[\"Gender\"] == \"Female\")& (data_frame[\"Race\"] == \"American Indian or Alaska Native\")& \n",
    "           (data_frame[\"Notes\"] != \"Total\")]"
   ]
  },
  {
   "cell_type": "code",
   "execution_count": 4,
   "id": "8af1290f",
   "metadata": {},
   "outputs": [],
   "source": [
    "#define variables for each gender and race and parse data\n",
    "CFb = data_frame[(data_frame[\"Gender\"] == \"Female\") & (data_frame[\"Race\"] == \"Black or African American\")& \n",
    "           (data_frame[\"Notes\"] != \"Total\")][[\"Year\", \"Crude Rate\"]].astype(float)\n",
    "CMb = data_frame[(data_frame[\"Gender\"] == \"Male\") & (data_frame[\"Race\"] == \"Black or African American\")& \n",
    "           (data_frame[\"Notes\"] != \"Total\")][[\"Year\", \"Crude Rate\"]].astype(float)\n",
    "\n",
    "CFw = data_frame[(data_frame[\"Gender\"] == \"Female\") & (data_frame[\"Race\"] == \"White\")& \n",
    "           (data_frame[\"Notes\"] != \"Total\")][[\"Year\", \"Crude Rate\"]].astype(float)\n",
    "CMw = data_frame[(data_frame[\"Gender\"] == \"Male\") & (data_frame[\"Race\"] == \"White\")& \n",
    "           (data_frame[\"Notes\"] != \"Total\")][[\"Year\", \"Crude Rate\"]].astype(float)\n",
    "\n",
    "CFa = data_frame[(data_frame[\"Gender\"] == \"Female\") & (data_frame[\"Race\"] == \"Asian\")& \n",
    "           (data_frame[\"Notes\"] != \"Total\")][[\"Year\", \"Crude Rate\"]].astype(float)\n",
    "CMa = data_frame[(data_frame[\"Gender\"] == \"Male\") & (data_frame[\"Race\"] == \"Asian\")& \n",
    "           (data_frame[\"Notes\"] != \"Total\") & (data_frame[\"Crude Rate\"] != \"NaN\")][[\"Year\", \"Crude Rate\"]].astype(float)\n",
    "\n",
    "CFn = data_frame[(data_frame[\"Gender\"] == \"Female\") & (data_frame[\"Race\"] == \"American Indian or Alaska Native\")& \n",
    "           (data_frame[\"Notes\"] != \"Total\")][[\"Year\", \"Crude Rate\"]].astype(float)\n",
    "CMn = data_frame[(data_frame[\"Gender\"] == \"Male\") & (data_frame[\"Race\"] == \"American Indian or Alaska Native\")& \n",
    "           (data_frame[\"Notes\"] != \"Total\")][[\"Year\", \"Crude Rate\"]].astype(float)"
   ]
  },
  {
   "cell_type": "code",
   "execution_count": 5,
   "id": "cbea8a06",
   "metadata": {},
   "outputs": [],
   "source": [
    "#separate year and crude rate variables for each gender and race\n",
    "x1b=CFb[\"Year\"]\n",
    "y1b=CFb[\"Crude Rate\"]\n",
    "\n",
    "x2b=CMb[\"Year\"]\n",
    "y2b=CMb[\"Crude Rate\"]\n",
    "\n",
    "x1w=CFw[\"Year\"]\n",
    "y1w=CFw[\"Crude Rate\"]\n",
    "\n",
    "x2w=CMw[\"Year\"]\n",
    "y2w=CMw[\"Crude Rate\"]\n",
    "\n",
    "x1a=CFa[\"Year\"]\n",
    "y1a=CFa[\"Crude Rate\"]\n",
    "\n",
    "x2a=CMa[\"Year\"]\n",
    "y2a=CMa[\"Crude Rate\"]\n",
    "\n",
    "x1n=CFn[\"Year\"]\n",
    "y1n=CFn[\"Crude Rate\"]\n",
    "\n",
    "x2n=CMn[\"Year\"]\n",
    "y2n=CMn[\"Crude Rate\"]"
   ]
  },
  {
   "cell_type": "code",
   "execution_count": 6,
   "id": "ede62367",
   "metadata": {},
   "outputs": [],
   "source": [
    "#fit data for each race and gender\n",
    "coeffFb = np.polyfit(x1b, y1b, 2)\n",
    "coeffMb = np.polyfit(x2b, y2b, 2)\n",
    "\n",
    "coeffFw = np.polyfit(x1w, y1w, 2)\n",
    "coeffMw = np.polyfit(x2w, y2w, 2)\n",
    "\n",
    "coeffFa = np.polyfit(x1a, y1a, 2)\n",
    "coeffMa = np.polyfit(x2a, y2a, 2)\n",
    "\n",
    "coeffFn = np.polyfit(x1n, y1n, 2)\n",
    "coeffMn = np.polyfit(x2n, y2n, 2)\n",
    "\n",
    "#define years\n",
    "gdf = pd.DataFrame({\"value\": [2018, 2019, 2020, 2021, 2022]})"
   ]
  },
  {
   "cell_type": "code",
   "execution_count": 7,
   "id": "c5793ec3",
   "metadata": {},
   "outputs": [
    {
     "data": {
      "text/plain": [
       "(array([2018., 2019., 2020., 2021., 2022.]),\n",
       " [Text(2018.0, 0, '2018'),\n",
       "  Text(2019.0, 0, '2019'),\n",
       "  Text(2020.0, 0, '2020'),\n",
       "  Text(2021.0, 0, '2021'),\n",
       "  Text(2022.0, 0, '2022')])"
      ]
     },
     "execution_count": 7,
     "metadata": {},
     "output_type": "execute_result"
    },
    {
     "data": {
      "image/png": "[encoded data removed]",
      "text/plain": [
       "<Figure size 640x480 with 1 Axes>"
      ]
     },
     "metadata": {},
     "output_type": "display_data"
    }
   ],
   "source": [
    "#plot the male data for each race\n",
    "plt.plot(gdf, np.polyval(coeffMb,gdf), color='black')\n",
    "plt.scatter(x2b,y2b, color='black')\n",
    "\n",
    "plt.plot(gdf, np.polyval(coeffMw,gdf), color='orange')\n",
    "plt.scatter(x2w,y2w, color='orange')\n",
    "\n",
    "plt.plot(gdf, np.polyval(coeffMa,gdf), color='tab:green')\n",
    "plt.scatter(x2a,y2a, color='tab:green')\n",
    "\n",
    "plt.plot(gdf, np.polyval(coeffMn,gdf), color='tab:red')\n",
    "plt.scatter(x2n,y2n, color='tab:red')\n",
    "\n",
    "#adjust the axes\n",
    "plt.yticks(np.arange(0, 6.1, 1.0))\n",
    "plt.xticks(np.arange(2018, 2022.5, 1.0))\n",
    "plt.suptitle('male', fontsize=20)\n",
    "plt.ylabel(\"crude rate\", fontsize = 14)\n",
    "plt.yticks(fontsize=12, rotation=0)\n",
    "plt.xticks(fontsize=12, rotation=0)\n",
    "#plt.savefig('AttempT40.2_MaleRaces2_R.png')"
   ]
  },
  {
   "cell_type": "code",
   "execution_count": 8,
   "id": "70f1f51e",
   "metadata": {},
   "outputs": [
    {
     "data": {
      "text/plain": [
       "([<matplotlib.axis.YTick at 0x17c708b50>,\n",
       "  <matplotlib.axis.YTick at 0x17c6ef590>,\n",
       "  <matplotlib.axis.YTick at 0x17c691c10>,\n",
       "  <matplotlib.axis.YTick at 0x17cd01710>,\n",
       "  <matplotlib.axis.YTick at 0x17cd039d0>],\n",
       " [Text(0, 0.0, '0'),\n",
       "  Text(0, 1.0, '1'),\n",
       "  Text(0, 2.0, '2'),\n",
       "  Text(0, 3.0, '3'),\n",
       "  Text(0, 4.0, '4')])"
      ]
     },
     "execution_count": 8,
     "metadata": {},
     "output_type": "execute_result"
    },
    {
     "data": {
      "image/png": "[encoded data removed]",
      "text/plain": [
       "<Figure size 640x480 with 1 Axes>"
      ]
     },
     "metadata": {},
     "output_type": "display_data"
    }
   ],
   "source": [
    "#plot the female data for each race\n",
    "plt.plot(gdf, np.polyval(coeffFb,gdf), color='black')\n",
    "plt.scatter(x1b,y1b, color='black')\n",
    "\n",
    "plt.plot(gdf, np.polyval(coeffFw,gdf), color='orange')\n",
    "plt.scatter(x1w,y1w, color='orange')\n",
    "\n",
    "plt.plot(gdf, np.polyval(coeffFa,gdf), color='tab:green')\n",
    "plt.scatter(x1a, y1a, color='tab:green')\n",
    "\n",
    "plt.plot(gdf, np.polyval(coeffFn,gdf), color='tab:red')\n",
    "plt.scatter(x1n, y1n, color='tab:red')\n",
    "\n",
    "plt.suptitle('female', fontsize=20)\n",
    "plt.ylabel(\"crude rate\", fontsize=14)\n",
    "plt.yticks(fontsize=12, rotation=0)\n",
    "plt.xticks(fontsize=12, rotation=0)\n",
    "plt.xticks(np.arange(2018, 2022.5, 1.0))\n",
    "plt.yticks(np.arange(0, 4.1, 1.0))\n",
    "\n",
    "#plt.savefig('AttempT40.2_FemaleRaces_R.png')"
   ]
  }
 ],
 "metadata": {
  "kernelspec": {
   "display_name": "Python 3 (ipykernel)",
   "language": "python",
   "name": "python3"
  },
  "language_info": {
   "codemirror_mode": {
    "name": "ipython",
    "version": 3
   },
   "file_extension": ".py",
   "mimetype": "text/x-python",
   "name": "python",
   "nbconvert_exporter": "python",
   "pygments_lexer": "ipython3",
   "version": "3.11.2"
  }
 },
 "nbformat": 4,
 "nbformat_minor": 5
}
